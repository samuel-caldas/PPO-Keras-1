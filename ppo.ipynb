{
 "cells": [
  {
   "cell_type": "markdown",
   "metadata": {},
   "source": [
    "Initial framework taken from https://github.com/jaara/AI-blog/blob/master/CartPole-A3C.py"
   ]
  },
  {
   "cell_type": "code",
   "execution_count": null,
   "metadata": {},
   "outputs": [],
   "source": [
    "import numpy as np"
   ]
  },
  {
   "cell_type": "code",
   "execution_count": null,
   "metadata": {},
   "outputs": [],
   "source": [
    "import gym"
   ]
  },
  {
   "cell_type": "code",
   "execution_count": null,
   "metadata": {},
   "outputs": [],
   "source": [
    "from NoisyDense import NoisyDense\n",
    "from tensorflow.keras.models import Model\n",
    "from tensorflow.keras.layers import Input, Dense\n",
    "from tensorflow.keras import backend as K\n",
    "from tensorflow.keras.optimizers import Adam\n",
    "import matplotlib.pyplot as plt\n",
    "import numba as nb"
   ]
  },
  {
   "cell_type": "code",
   "execution_count": null,
   "metadata": {},
   "outputs": [],
   "source": [
    "#ENV = 'Breakout-ram-v0'\n",
    "ENV = 'LunarLander-v2'"
   ]
  },
  {
   "cell_type": "code",
   "execution_count": null,
   "metadata": {},
   "outputs": [],
   "source": [
    "EPISODES = 10000"
   ]
  },
  {
   "cell_type": "code",
   "execution_count": null,
   "metadata": {},
   "outputs": [],
   "source": [
    "LOSS_CLIPPING = 0.2 # Only implemented clipping for the surrogate loss, paper said it was best\n",
    "EPOCHS = 10"
   ]
  },
  {
   "cell_type": "code",
   "execution_count": null,
   "metadata": {},
   "outputs": [],
   "source": [
    "GAMMA = 0.99"
   ]
  },
  {
   "cell_type": "code",
   "execution_count": null,
   "metadata": {},
   "outputs": [],
   "source": [
    "BATCH_SIZE = 512\n",
    "NUM_ACTIONS = 4\n",
    "NUM_STATE = 8"
   ]
  },
  {
   "cell_type": "code",
   "execution_count": null,
   "metadata": {},
   "outputs": [],
   "source": [
    "DUMMY_ACTION, DUMMY_VALUE = np.zeros((1, NUM_ACTIONS)), np.zeros((1,1))"
   ]
  },
  {
   "cell_type": "code",
   "execution_count": null,
   "metadata": {},
   "outputs": [],
   "source": [
    "@nb.jit\n",
    "def exponential_average(old, new, b1):\n",
    "    return old * b1 + (1-b1) * new"
   ]
  },
  {
   "cell_type": "code",
   "execution_count": null,
   "metadata": {
    "lines_to_next_cell": 1
   },
   "outputs": [],
   "source": [
    "def proximal_policy_optimization_loss(actual_value, predicted_value, old_prediction):\n",
    "    advantage = actual_value - predicted_value\n",
    "\n",
    "    def loss(y_true, y_pred):\n",
    "        prob = K.sum(y_true * y_pred)\n",
    "        old_prob = K.sum(y_true * old_prediction)\n",
    "        r = prob/(old_prob + 1e-10)\n",
    "\n",
    "        return -K.log(prob + 1e-10) * K.mean(K.minimum(r * advantage, K.clip(r, min_value=0.8, max_value=1.2) * advantage))\n",
    "    return loss"
   ]
  },
  {
   "cell_type": "code",
   "execution_count": null,
   "metadata": {
    "lines_to_next_cell": 1
   },
   "outputs": [],
   "source": [
    "class Agent:\n",
    "\n",
    "    def __init__(self):\n",
    "        self.critic = self.build_critic()\n",
    "        self.actor = self.build_actor()\n",
    "        self.env = gym.make(ENV)\n",
    "        self.env.render(mode=\"human\")\n",
    "\n",
    "        print(self.env.action_space, 'action_space', self.env.observation_space, 'observation_space')\n",
    "        self.episode = 0\n",
    "        self.observation = self.env.reset()\n",
    "        self.reward = []\n",
    "        self.reward_over_time = []\n",
    "\n",
    "    def build_actor(self):\n",
    "\n",
    "        state_input = Input(shape=(NUM_STATE,))\n",
    "        actual_value = Input(shape=(1,))\n",
    "        predicted_value = Input(shape=(1,))\n",
    "        old_prediction = Input(shape=(NUM_ACTIONS,))\n",
    "\n",
    "        x = Dense(256, activation='relu')(state_input)\n",
    "        x = Dense(256, activation='relu')(x)\n",
    "\n",
    "        # Prefer this to entropy penalty\n",
    "        out_actions = NoisyDense(NUM_ACTIONS, activation='softmax', sigma_init=0.02, name='output')(x)\n",
    "\n",
    "        model = Model(inputs=[state_input, actual_value, predicted_value, old_prediction], outputs=[out_actions])\n",
    "        model.compile(optimizer=Adam(lr=10e-4),\n",
    "                      loss=[proximal_policy_optimization_loss(\n",
    "                          actual_value=actual_value,\n",
    "                          old_prediction=old_prediction,\n",
    "                          predicted_value=predicted_value)])\n",
    "        model.summary()\n",
    "\n",
    "        return model\n",
    "\n",
    "    def build_critic(self):\n",
    "\n",
    "        state_input = Input(shape=(NUM_STATE,))\n",
    "        x = Dense(256, activation='relu')(state_input)\n",
    "        x = Dense(256, activation='relu')(x)\n",
    "\n",
    "        out_value = Dense(1)(x)\n",
    "\n",
    "        model = Model(inputs=[state_input], outputs=[out_value])\n",
    "        model.compile(optimizer=Adam(lr=10e-4), loss='mse')\n",
    "\n",
    "        return model\n",
    "\n",
    "    @nb.jit\n",
    "    def reset_env(self):\n",
    "        self.episode += 1\n",
    "        self.observation = self.env.reset()\n",
    "        self.reward = []\n",
    "\n",
    "    @nb.jit\n",
    "    def get_action(self):\n",
    "        p = self.actor.predict([self.observation.reshape(1, NUM_STATE), DUMMY_VALUE, DUMMY_VALUE, DUMMY_ACTION])\n",
    "        action = np.random.choice(NUM_ACTIONS, p=np.nan_to_num(p[0]))\n",
    "        action_matrix = np.zeros(p[0].shape)\n",
    "        action_matrix[action] = 1\n",
    "        return action, action_matrix, p\n",
    "\n",
    "    @nb.jit\n",
    "    def transform_reward(self):\n",
    "        if self.episode % 100 == 0:\n",
    "            print('Episode #', self.episode, '\\tfinished with reward', np.array(self.reward).sum(),\n",
    "                  '\\tAverage Noisy Weights', np.mean(self.actor.get_layer('output').get_weights()[1]))\n",
    "        self.reward_over_time.append(np.array(self.reward).sum())\n",
    "        for j in range(len(self.reward)):\n",
    "            reward = self.reward[j]\n",
    "            for k in range(j + 1, len(self.reward)):\n",
    "                reward += self.reward[k] * GAMMA ** k\n",
    "            self.reward[j] = reward\n",
    "\n",
    "    @nb.jit\n",
    "    def get_batch(self):\n",
    "        batch = [[], [], [], []]\n",
    "\n",
    "        tmp_batch = [[], [], []]\n",
    "        while len(batch[0]) < BATCH_SIZE:\n",
    "            action, action_matrix, predicted_action = self.get_action()\n",
    "            observation, reward, done, info = self.env.step(action)\n",
    "            self.env.render()\n",
    "            self.reward.append(reward)\n",
    "\n",
    "            tmp_batch[0].append(self.observation)\n",
    "            tmp_batch[1].append(action_matrix)\n",
    "            tmp_batch[2].append(predicted_action)\n",
    "            self.observation = observation\n",
    "\n",
    "            if done:\n",
    "                self.transform_reward()\n",
    "                for i in range(len(tmp_batch[0])):\n",
    "                    obs, action, pred = tmp_batch[0][i], tmp_batch[1][i], tmp_batch[2][i]\n",
    "                    r = self.reward[i]\n",
    "                    batch[0].append(obs)\n",
    "                    batch[1].append(action)\n",
    "                    batch[2].append(pred)\n",
    "                    batch[3].append(r)\n",
    "                tmp_batch = [[], [], []]\n",
    "                self.reset_env()\n",
    "\n",
    "        obs, action, pred, reward = np.array(batch[0]), np.array(batch[1]), np.array(batch[2]), np.reshape(np.array(batch[3]), (len(batch[3]), 1))\n",
    "        pred = np.reshape(pred, (pred.shape[0], pred.shape[2]))\n",
    "        return obs, action, pred, reward\n",
    "\n",
    "    def run(self):\n",
    "        while self.episode < EPISODES:\n",
    "            obs, action, pred, reward = self.get_batch()\n",
    "            old_prediction = pred\n",
    "            pred_values = self.critic.predict(obs)\n",
    "\n",
    "            for e in range(EPOCHS):\n",
    "                self.actor.train_on_batch([obs, reward, pred_values, old_prediction], [action])\n",
    "            for e in range(EPOCHS):\n",
    "                self.critic.train_on_batch([obs], [reward])"
   ]
  },
  {
   "cell_type": "code",
   "execution_count": null,
   "metadata": {},
   "outputs": [],
   "source": [
    "if __name__ == '__main__':\n",
    "    ag = Agent()\n",
    "    ag.run()\n",
    "    old, ma_list = 0, []\n",
    "    for value in ag.reward_over_time:\n",
    "        old = exponential_average(old, value, .99)\n",
    "        ma_list.append(old)\n",
    "\n",
    "    plt.plot(ma_list)\n",
    "    plt.show()"
   ]
  }
 ],
 "metadata": {
  "jupytext": {
   "cell_metadata_filter": "-all",
   "main_language": "python",
   "notebook_metadata_filter": "-all"
  }
 },
 "nbformat": 4,
 "nbformat_minor": 4
}
